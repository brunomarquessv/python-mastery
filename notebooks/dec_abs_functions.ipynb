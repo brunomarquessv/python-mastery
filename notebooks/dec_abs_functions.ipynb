{
 "cells": [
  {
   "cell_type": "markdown",
   "metadata": {},
   "source": [
    "Explica-se muito que **abstração**, nada mais é do que a **representação de algo do mundo real, para o mundo da programação**. É verdade! Porém, podemos ir além.\n",
    "\n",
    "Bem, no mundo real possuímos os celulares, que para grande maioria das pessoas são apenas aparelhos quadradinhos que podemos enviar mensagens, receber mensagens, realizar ligações e até mesmo interagir em redes sociais.\n",
    "\n",
    "Para nós, podemos enxergar também que os celulares possuem, como em um código Python: entradas (inputs) e saídas (outputs). \n",
    "\n",
    "Mas como assim? Quando estamos realizando um código em python e queremos printar na tela um número e pedimos ao usuário para que digite este número, utilizamos o seguinte: ```digite = input(\"digite um número: \")``` (entrada) e imprimimos o resultado com ```print(digite)``` (saída). \n",
    "\n",
    "Da mesma forma que um celular, ao digitarmos um número e ele aparece em uma caixa de pesquisa ou quando clicamos em um contato e ele mostra os detalhes deste usuário, estamos tratando com inputs e outputs. \n",
    "\n",
    "A maioria das pessoas não fazem ideia de como isto funciona, apenas aprendem a utilizá-lo sem que necessariamente entendam o funcionamento técnico por trás do aparelho. \n",
    "\n",
    "Empresas do mundo inteiro, principalmente as que fabricam celulares como por exemplo a Apple, fragmentam a criação de seus celulares para que se obtenha a melhor perfomance, design e interface para os usuários. Como assim? uma empresa \"X\" fabrica seus hardwares, outra \"Y\" fabrica seus software iOS e assim continuamente. Mesmo assim, a empresa X, não entende necessariamente como é feito os componentes da empresa Y e apenas sabem do necessário, para que tenha uma compatibilidade entre os componentes ou um bom funcionamento. \n",
    "\n",
    "Portanto, entende-se que a **abstração promove a decomposição** e isso pode está muito bem **interligado com funções no Python**.\n",
    "\n",
    "**Por que?** \n",
    "\n",
    "- Funções, nada mais é do que pedaços de código reutilizáveis que promovem também, manutenabilidade a aplicação, de forma que, o usuário, não necessariamente entenda como é feito, mas consiga utilizá-lo mesmo assim.\n",
    "- Podemos utilizar as funções com qualquer entrada e ainda assim, ter sempre a saída esperada.\n",
    "- Nada mais é, do que uma forma especial de se criar um código.\n",
    "- E ao criamos uma função, informamos ao Python que aquele código agora existe em sua memória.\n",
    "\n",
    "**Vamos ao exemplo prático** <br>\n",
    "\n",
    "Características de uma função:\n",
    "- Toda função necessariamente precisa de um nome\n",
    "- Podemos também, implementar parâmetros ()\n",
    "- De forma opcional, podemos também \"documentar uma função\" e logo abaixo veremos a importância disto para um bom entendimento de código.\n",
    "- Corpo da função - local onde é dada as instruções de funcionamento\n",
    "- **IMPORTANTE!!** - nenhuma função será iniciada ou \"rodada\" ao menos que seja (chamada ou invocada) - veremos abaixo também o exemplo"
   ]
  },
  {
   "cell_type": "markdown",
   "metadata": {},
   "source": [
    "Como escrever uma função?\n",
    "```python\n",
    "def \"nome da função\"(\"parametros\"):\n",
    "    '''\n",
    "    docstring: é como se fosse a documentação da função,<br>\n",
    "    ajuda outros programadores a entender o funcionamento e a importancia da função.<br>\n",
    "    '''\n",
    "    # comandos\n",
    "    |\n",
    "    | bloco de comandos<br>\n",
    "    |\n",
    "```\n",
    "\n",
    "**Exemplo prático:**\n",
    "```python\n",
    "def is_even(i):\n",
    "    '''\n",
    "    a função é utilizada para determinar se um numero é par ou não.\n",
    "    ela vai receber um numero inteiro e positivo (i) e retornará depois da iteração \n",
    "    true ou false.\n",
    "    '''\n",
    "    if i%2==0:\n",
    "        return True\n",
    "    else:\n",
    "        return False\n",
    "```"
   ]
  },
  {
   "cell_type": "markdown",
   "metadata": {},
   "source": [
    "Como devemos pensar na hora de escrever uma função?\n",
    "Utilizaremos a função is_even como exemplo.\n",
    "\n",
    "1. Qual é o problema?\n",
    "- Dar como entrada um valor inteiro, dado ao parametro i e para sabermos se ele é ou não par\n",
    "- Utilize este pensamento para escrever o nome da função e suas especificações<br>\n",
    "```python\n",
    "def is_even(i):\n",
    "    \"\"\"\n",
    "    entrada -> i, numero inteiro e positivo\n",
    "    que retorna True se for par, caso contrário False\n",
    "    \"\"\"\n",
    "```\n",
    "2. Como resolver o problema?\n",
    "- Implementar uma estrutura de decisão que irá determinar se o número inteiro dado como entrada, dividido por 2, resultará em uma divisão inteira ou seja: resto 0. \n",
    "\n",
    "```python\n",
    "def is_even(i):\n",
    "    \"\"\"\n",
    "    entrada -> i, numero inteiro e positivo\n",
    "    que retorna True se for par, caso contrário False\n",
    "    \"\"\"\n",
    "    if i%2==0:\n",
    "        return True\n",
    "    else:\n",
    "        return False\n",
    "```\n",
    "\n",
    "Pense também na melhor forma de fazer a função, deixando seu código mais limpo possível.\n",
    "```python\n",
    "def is_even(i):\n",
    "    return i%2 == 0\n",
    "```"
   ]
  },
  {
   "cell_type": "markdown",
   "metadata": {},
   "source": [
    "**Chamando/Invocando a função**\n",
    "```python\n",
    "is_even(3)\n",
    "is_even(8)\n",
    "```\n",
    "- Utilizamos o nome da função e o valor que vai entre parênteses, irá ser associado ao parâmetro determinado na criação da função.\n",
    "- Neste caso, o output será:\n",
    "```python\n",
    "False\n",
    "True\n",
    "```"
   ]
  },
  {
   "cell_type": "markdown",
   "metadata": {},
   "source": [
    "```python\n",
    "def is_even(i):\n",
    "    return i%2==0\n",
    "\n",
    "is_even(8)\n",
    "# R: True\n",
    "```"
   ]
  },
  {
   "cell_type": "markdown",
   "metadata": {},
   "source": [
    "Conclusão:\n",
    "- Funções permite que \"escondamos\" os detalhes do usuário\n",
    "- Função captura os blocos de código, como se fossem uma caixinha\n",
    "- Um programador escreve uma função com:\n",
    "    - 0 ou mais entradas\n",
    "    - Quando tem algo para ser retornado\n",
    "- Uma função só é executada quando invocada\n",
    "- No final, toda chamada da função é substituída pelo seu retorno\n",
    "- Lembre-se sempre em expressões e como você irá substituir uma expressão inteira pelo valor que ele avalia\n",
    "- Utilize o ``def`` para iniciar/criar uma função"
   ]
  }
 ],
 "metadata": {
  "language_info": {
   "name": "python"
  }
 },
 "nbformat": 4,
 "nbformat_minor": 2
}
