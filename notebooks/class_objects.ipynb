{
 "cells": [
  {
   "cell_type": "markdown",
   "id": "f4ad6948-6649-48e4-944d-779b0c691079",
   "metadata": {},
   "source": [
    "##### Object-Oriented Programming (Python)\n",
    "Sabe-se que a necessidade de abstrair \"coisas\" do mundo real, para dentro da programação fez-se necessário a medida em que a complexidade das aplicações, códigos e tecnologias foram aumentando. \n",
    "\n",
    "Diante disso, surgiu a necessidade da criação das classes (represetanções) e objetos (instâncias das classes)."
   ]
  },
  {
   "cell_type": "markdown",
   "id": "003b16ef",
   "metadata": {},
   "source": [
    "##### Classes e Objetos\n",
    "Mas o que são Classes?\n",
    "- Classes: são abstrações (represetanções) de algo do mundo real, como por exemplo um Carro e que possuem um estado (atributos) e um comportamento (métodos);\n",
    "- Um **estado é definido por um conjunto de variáveis chamadas \"atributos\"** que podemos entender como características, por exemplo um Carro que possui como característica sua cor.\n",
    "- E **comportamento, são seus métodos que também podemos entender como \"ações\"** que são criadas a partir de **funções**. \n",
    "\n",
    "O que são Objetos?\n",
    "\n",
    "- No Python, tudo que criamos é um objeto, todo tipo de dado seja ele: int, float, bool, string, são objetos. Por exemplo, o número ```6``` é uma instância da classe ```int``` e o nome ```\"python\"``` é uma instância da classe ```str```.\n",
    "\n",
    "**E o que isso significa?**<br>\n",
    "Os objetos por serem instâncias de uma classe, permitem que mantivemos e manipulemos suas informações. \n",
    "\n",
    "Portanto, podemos definir como exemplo uma classe carro, onde: \n",
    "```python\n",
    "uma classe Carro(): \n",
    "    com os atributos: ano, modelo, cor\n",
    "    e seus metodos: pare, acelere\n",
    "```"
   ]
  },
  {
   "cell_type": "markdown",
   "id": "d2aa7a81",
   "metadata": {},
   "source": [
    "**Propriedades, Acessores e Modificadores**"
   ]
  },
  {
   "cell_type": "markdown",
   "id": "2206f779",
   "metadata": {},
   "source": [
    "##### Definição de classe e criação de objetos\n",
    "Para definirmos uma classe no python, utilizamos a função class: \n",
    "\n",
    "```python\n",
    "class Carro():\n",
    "    pass\n",
    "\n",
    "hb20 = Carro()\n",
    "ferrari = Carro()\n",
    "\n",
    "```\n",
    "Esta classe no momento não possui atributos nem métodos, mas nos permite criar objetos a partir dela, ou seja, instâncias da classe Carro como o ```hb20``` e a ```ferrari```.<br>\n",
    "obs: de forma similiar as funções, a identação da classe indica quais declarações fazem parte da definição da classe."
   ]
  },
  {
   "cell_type": "markdown",
   "id": "54c10960",
   "metadata": {},
   "source": [
    "##### Atributos \n",
    "Para criarmos atributos, basta fazermos atribuições do objeto.atributo e utilizar os atributos como variáveis.\n",
    "\n",
    "```python\n",
    "class Carro():\n",
    "    pass\n",
    "\n",
    "fiat = Carro()\n",
    "ferrari = Carro()\n",
    "\n",
    "fiat.ano = 2014\n",
    "ferrari.ano = 2020\n",
    "\n",
    "fiat.modelo = 'pulse'\n",
    "ferrari.modelo = 'spider'\n",
    "```"
   ]
  },
  {
   "cell_type": "markdown",
   "id": "6066e54c",
   "metadata": {},
   "source": [
    "##### Métodos \n",
    "Os métodos são as ações que a classe vai executar e são implementadas por meio de funções. \n",
    "Como sabemos que a classe Carro possuem como atributos 'ano' e 'modelo', podemos inicializa-las apenas quando criarmos novas instâncias (objetos).\n",
    "\n",
    "Utilizaremos o método especial ```__init__``` como construtor da classe."
   ]
  },
  {
   "cell_type": "code",
   "execution_count": 1,
   "id": "234c1ad4",
   "metadata": {},
   "outputs": [
    {
     "name": "stdout",
     "output_type": "stream",
     "text": [
      "2020\n",
      "spider\n"
     ]
    }
   ],
   "source": [
    "class Carro():\n",
    "    def __init__(self, a, m):\n",
    "        self.ano = a\n",
    "        self.modelo = m \n",
    "\n",
    "# Chamando um método\n",
    "# <object.variable>.<method>(<parameters>)\n",
    "ferrari = Carro(2020, 'spider')\n",
    "print(ferrari.ano)\n",
    "print(ferrari.modelo)"
   ]
  },
  {
   "cell_type": "markdown",
   "id": "28e3095e",
   "metadata": {},
   "source": [
    "**Como chamar um método?**\n",
    "- O operador \".\" é utilizado para acessar quaisquer atributo\n",
    "    - Um atribute de dados nós instruímos (ferrari.ano)\n",
    "    - O método de um objeto\n",
    "\n",
    "Portanto => ``<object_variable>.<method>(<parameters>)``\n",
    "\n",
    "exemplo: ``ferrari.ano(2021)``\n",
    "\n",
    "Pode soar familiar para você se lembrarmos de quando manipulamos listas:\n",
    "list.append(4)\n",
    "list.sort()"
   ]
  },
  {
   "cell_type": "markdown",
   "id": "503f307b",
   "metadata": {},
   "source": [
    "**Qual a função do self?**<br>\n",
    "Todo método de uma classe recebe como primeiro parâmetro uma referência à instância que chama o método, permitindo assim que o objeto acesse os seus próprios atributos e métodos. Por convenção, chamamos esse primeiro parâmetro de ```self```, mas qualquer outro nome poderia ser utilizado.\n",
    "\n",
    "O método especial ```__init__``` é chamado automaticamente após a criação de um objeto, e no caso de um Carro, na nova instância são criados os atributos ‘modelo’, ‘ano’ e ‘cor’ com os valores dados como argumentos do construtor (no caso Carro(“Ferrari”, 2020, “Spider”)).\n",
    "\n",
    "Assim, no corpo de qualquer método, um atributo pode ser criado, acessado ou modificado usando ```self.nome_do_atributo.```"
   ]
  }
 ],
 "metadata": {
  "kernelspec": {
   "display_name": "Python 3 (ipykernel)",
   "language": "python",
   "name": "python3"
  },
  "language_info": {
   "codemirror_mode": {
    "name": "ipython",
    "version": 3
   },
   "file_extension": ".py",
   "mimetype": "text/x-python",
   "name": "python",
   "nbconvert_exporter": "python",
   "pygments_lexer": "ipython3",
   "version": "3.12.2"
  }
 },
 "nbformat": 4,
 "nbformat_minor": 5
}
