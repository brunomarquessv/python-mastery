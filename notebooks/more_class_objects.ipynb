{
 "cells": [
  {
   "cell_type": "markdown",
   "metadata": {},
   "source": [
    "**Relembrar** \n",
    "- Implementando um novo tipo de objeto com classe:\n",
    "    - Defina a classe\n",
    "    - Defina os atributos (o que é o objeto ou características)\n",
    "    - Defina seus métodos (como utilizar o objeto - ações ou comportamentos)\n",
    "    - **Classes abstratas capturam propriedades e comportamentos comuns**\n",
    "\n",
    "- Utilizando a classe:\n",
    "    - Crie instâncias de um tipo de objeto\n",
    "    - Realize operações com esta instância\n",
    "    - **Instâncias possuem valores específicos para os atributos**"
   ]
  },
  {
   "cell_type": "markdown",
   "metadata": {},
   "source": [
    "- Recordando a classe Coordinate:\n",
    "    - A definição da classe informa ao Python a \"planta\" para o novo tipo de objeto Coordinate\n",
    "    ```python\n",
    "    class Coordinate(object):\n",
    "        \"\"\" A coordinate made up of an x and y value \"\"\"\n",
    "        def __init__(self, x, y):\n",
    "        \"\"\" Sets the x and y values \"\"\"\n",
    "            self.x = x\n",
    "            self.y = y\n",
    "        def distance(self, other):\n",
    "        \"\"\" Returns euclidean dist between two Coord obj \"\"\"\n",
    "            x_diff_sq = (self.x-other.x)**2\n",
    "            y_diff_sq = (self.y-other.y)**2\n",
    "            return (x_diff_sq + y_diff_sq)**0.5\n",
    "    ```\n",
    "\n",
    "- Adicionando métodos a classe Coordinate:\n",
    "    - Métodos são funções que só funcionam com objetos deste tipo (Carro)\n",
    "```python\n",
    "class Coordinate(object):\n",
    "    def __init__(self, x, y):\n",
    "        \"\"\"\n",
    "        determina os valores de x e y nas coordenadas\n",
    "        \"\"\"\n",
    "        self.x = x\n",
    "        self.y = y\n",
    "    def distance(self, other):\n",
    "        \"\"\"\n",
    "        retorna a distancia euclidiana entre duas coordenadas\n",
    "        \"\"\"\n",
    "        x_diff_sq = (self.x-other.x) ** 2\n",
    "        y_diff_sq = (self.y-other.y) ** 2\n",
    "        return (x_diff_sq + y_diff_sq) ** 0.5\n",
    "    def to_origin(self):\n",
    "        \"\"\"\n",
    "        devolve os valores iniciais (de origem) de x e y\n",
    "        \"\"\"\n",
    "        self.x = 0\n",
    "        self.y = 0\n",
    "```"
   ]
  },
  {
   "cell_type": "markdown",
   "metadata": {},
   "source": [
    "- Criando instâncias de Coordinate\n",
    "    - Criando instâncias, faz com que o objeto Coordinate fique alocado em memória\n",
    "    - Os seus objetos podem ser manipulados\n",
    "        - Use . para invocar os métodos e acessar seus atributos\n",
    "\n",
    "```python\n",
    "...    \n",
    "c = Coordinate (3,4) # os valores 3 e 4 são atribuidos a x e y respectivamente\n",
    "origin = Coordinate(0, 0)\n",
    "\n",
    "c.to_origin() # esta chamada de método nao retorna nada, apenas atribui de volta os valores 0, 0 a x e y devolvendo a seus valores de origem\n",
    "```"
   ]
  },
  {
   "cell_type": "markdown",
   "metadata": {},
   "source": [
    "**Podemos utilizar classes para construir outras classes**\n",
    "- Exemplo: Utilizando Coordinates para construir Circle\n",
    "- Esta implementação irá utilizar 2 atributos \n",
    "    - Um objeto coordinate representanto o centro do circle\n",
    "    - Um objeto inteiro representando seu raio\n",
    "     \n",
    "    ![Demonstrativo da classe circulo e seus atributos](../lecture18/Captura%20de%20tela%202024-05-06%20081532.png)"
   ]
  },
  {
   "cell_type": "code",
   "execution_count": null,
   "metadata": {},
   "outputs": [],
   "source": [
    "## Definindo a classe círculo\n",
    "class Circle(object):\n",
    "    def __init__(self, center, radius):\n",
    "        self.center = center\n",
    "        self.radius = radius\n",
    "\n",
    "center = Coordinate(2, 2) # cria uma instancia da classe Coordinate\n",
    "my_circle = Circle(center, 2) # utiliza esta instancia como valor para center \n",
    "# OBS: por estar num escopo global e nao em um escopo local (dentro da classe) - podemos repetir o nome dos parametros como variavel"
   ]
  },
  {
   "cell_type": "code",
   "execution_count": null,
   "metadata": {},
   "outputs": [],
   "source": [
    "## Definição de instâncias\n",
    "class Circle(object):\n",
    "    def __init__(self, center, radius):\n",
    "        self.center = center\n",
    "        self.radius = radius\n",
    "    def is_inside(self, point):\n",
    "        \"\"\"\n",
    "        retorna verdadeiro se o point estiver dentro e caso contrario, falso\n",
    "        -- estiver dentro significa que o valor do ponto, será menor ou igual ao tamanho do raio\n",
    "        caso seja maior que o raio, ele ultrapassou o valor e nao constará dentro do círculo\n",
    "        \"\"\"\n",
    "        return point.distance(self.center) < self.radius\n",
    "    # faz com que point vire um objeto Coordinate utilizando seu método distance e transformando self.center em um objeto coordinate também, afinal receberá seus valores\n",
    "\n",
    "    center = Coordinate(2, 2)\n",
    "    my_circle = Circle(center, 2)\n",
    "    p = Coordinate(1, 1)\n",
    "    print(my_circle.is_inside(p))"
   ]
  },
  {
   "cell_type": "code",
   "execution_count": null,
   "metadata": {},
   "outputs": [],
   "source": [
    "## Operadores especiais implementados com métodos \"dunder\" (double undescore)\n",
    "#+, -, ==, <, >, len(), print... e tantos outros operadores, são uma forma abreviada de notações\n",
    "\n",
    "## Operadores especiais implementados com método dunder (double underscore)\n",
    "__str__(self) -> print(self)\n",
    "__len__(self) -> len(self)\n",
    "__pow__(self) -> self**other\n",
    "__add__(self, other) -> self + other\n",
    "... and so many others"
   ]
  },
  {
   "cell_type": "markdown",
   "metadata": {},
   "source": [
    "O que queremos dizer com essa explicação de operadores especiais?\n",
    "- Podemos entender que com a criação de classes, nós podemos imprimir nosso próprio tipo de dado, da forma que nós quisermos\n",
    "ex:\n",
    "```python\n",
    "c = Coordinate(3, 4)\n",
    "print(c)\n",
    "<__main__.Coordinate object at 0x7fa918510488>\n",
    "```\n",
    "- Não será muito útil para a gente imprimir o valor de c e ter como retorno que ele é um tipo Coordinate e seu local de memória, correto? \n",
    "- Seria mais interessante, receber seus valores como retorno.\n"
   ]
  },
  {
   "cell_type": "code",
   "execution_count": 1,
   "metadata": {},
   "outputs": [],
   "source": [
    "## Portanto, defina seu próprio método print\n",
    "class Coordinate(object):\n",
    "    def __init__(self, xval, yval):\n",
    "        self.x = xval\n",
    "        self.y = yval\n",
    "    def distance(self, other):\n",
    "        x_diff_sq = (self.x-other.x)**2\n",
    "        y_diff_sq = (self.y-other.y)**2\n",
    "        return (x_diff_sq + y_diff_sq)**0.5\n",
    "    def __str__(self):\n",
    "        return \"<\"+str(self.x)+\",\"+str(self.y)+\">\"\n",
    "\n",
    "# Retornará -> <3, 4> e os valores de x e y serão passados como string"
   ]
  },
  {
   "cell_type": "code",
   "execution_count": 2,
   "metadata": {},
   "outputs": [
    {
     "ename": "SyntaxError",
     "evalue": "invalid syntax (2622448318.py, line 1)",
     "output_type": "error",
     "traceback": [
      "\u001b[1;36m  Cell \u001b[1;32mIn[2], line 1\u001b[1;36m\u001b[0m\n\u001b[1;33m    Em conclusão, os operadores especiais que utilizamos, são apenas métodos de classes \"escondidos\", onde seus detalhes estão escondidos.\u001b[0m\n\u001b[1;37m       ^\u001b[0m\n\u001b[1;31mSyntaxError\u001b[0m\u001b[1;31m:\u001b[0m invalid syntax\n"
     ]
    }
   ],
   "source": [
    "Em conclusão, os operadores especiais que utilizamos, são apenas métodos de classes \"escondidos\", onde seus detalhes estão escondidos.\n",
    "- Todos esses são equivalentes\n",
    "  - print(a * b) # forma mais limpa de escrever um codigo\n",
    "  - print(a.__mul__(b)) # forma mais antiga e nao muito convencional de se escrever o codigo atualmente\n",
    "  - print(Fraction.__mul__(a, b)) # forma mais arcaica do metodo, tambem nao é convencional escrever nos dias de hoje"
   ]
  }
 ],
 "metadata": {
  "kernelspec": {
   "display_name": "Python 3 (ipykernel)",
   "language": "python",
   "name": "python3"
  },
  "language_info": {
   "codemirror_mode": {
    "name": "ipython",
    "version": 3
   },
   "file_extension": ".py",
   "mimetype": "text/x-python",
   "name": "python",
   "nbconvert_exporter": "python",
   "pygments_lexer": "ipython3",
   "version": "3.12.2"
  }
 },
 "nbformat": 4,
 "nbformat_minor": 4
}
