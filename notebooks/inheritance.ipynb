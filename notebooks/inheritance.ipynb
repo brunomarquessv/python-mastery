{
 "cells": [
  {
   "cell_type": "markdown",
   "metadata": {},
   "source": [
    "#### Herança"
   ]
  },
  {
   "cell_type": "markdown",
   "metadata": {},
   "source": [
    "Recaptular \n",
    "- Utilizamos POO e classes de objetos para:\n",
    "    - Imitar a vida real (abstração)\n",
    "    - Agrupar diferentes objetos que fazem parte do mesmo tipo\n",
    "    - Todas as instâncias do mesmo tipo, possuem os mesmos atributos e métodos (comportamentos)\n",
    "\n",
    "- Grupo de objetos possuem atributos:\n",
    "    - Uma forma de representar nosso objetos através de tipos de dados\n",
    "    - Como por exemplo:\n",
    "        - para classe Coordinate: x e y\n",
    "        - para classe Animal: idade\n",
    "    - Atributos processuais (comportamentos/operações/**métodos**)\n",
    "        - Uma forma de alguém interagir com o objeto\n",
    "        - Como isto funciona?\n",
    "            - para classe Coordinate: encontrar a distância entre os dois valores (x e y)\n",
    "            - para classe Animal: imprimir a idade dele, informando a quanto tempo ele está vivo\n",
    "\n",
    "- Como definir uma classe?\n",
    "```python\n",
    "class Animal(object):\n",
    "    def __init__(self, age):\n",
    "        self.age = age\n",
    "        self.name = None\n",
    "    \n",
    "myanimal = Animal(3)\n",
    "```\n",
    "- Onde: \n",
    "    - ``class`` = definição da classe\n",
    "    - ``Animal`` = nome da classe\n",
    "    - ``object`` = pai da classe\n",
    "    - ``def __init__`` = método construtor para criar as instâncias da classe\n",
    "    - ``self`` = variável para se referir a uma instância da classe\n",
    "    - ``age`` = tipo de dado que inicializa o tipo Animal\n",
    "    - ``name`` = é um atributo, embora ainda nao tenha sido inicializado como um parâmetro\n",
    "    - ``myanimal`` = uma instância (objeto)\n",
    "    - ``(3)`` = valor associado a self.age na def da classe"
   ]
  },
  {
   "cell_type": "markdown",
   "metadata": {},
   "source": [
    "**Métodos GETTER and SETTER**\n",
    "<br>\n",
    "<br>\n",
    "Os métodos getters e setters permitem que controlemos o acesso aos atributos de uma determinada classe \n",
    "- getter: é um método que retorna o valor de um atributo de classe\n",
    "- setter: é um método que modifica o valor do atributo de classe\n",
    "<br>\n",
    "<br>\n",
    "Têm como vantagem, manter a consistência dos dados e evitam a modificação de valores acidentalmente\n"
   ]
  }
 ],
 "metadata": {
  "language_info": {
   "name": "python"
  }
 },
 "nbformat": 4,
 "nbformat_minor": 2
}
