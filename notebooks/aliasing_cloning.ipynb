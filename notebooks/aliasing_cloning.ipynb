{
 "cells": [
  {
   "cell_type": "markdown",
   "metadata": {},
   "source": [
    "##### Clonando listas\n",
    "\n",
    "Como podemos clonar uma lista?<br>\n",
    "Parece até ser uma pergunta fácil e você possivelmente já pensa em:\n",
    "```python\n",
    "L1 = [1, 2, 3]\n",
    "L2 = L1 \n",
    "```\n",
    "Por mais que aparente ser lógico e estar certo, infelizmente não está. Ao fazer este tipo de instrução, você não está criando uma cópia exata da lista, apenas adotando outro nome para referencia-la e qualquer alteração que for feita em L2, também será sofrida por L1.<br>\n",
    "\n",
    "Caso você queira fazer uma cópia independente da lista, você pode fazer das seguintes maneiras.<br>\n",
    "\n",
    "1. utuilizando o slicing (fatiamento):\n",
    "```\n",
    "L1 = [1, 2, 3]\n",
    "L2 = L1[:]\n",
    "```\n",
    "\n",
    "2. utilizando a função list():\n",
    "```\n",
    "L2 = list(L1)\n",
    "```\n",
    "\n",
    "3. utilizando o método copy():\n",
    "```\n",
    "L2 = L1.copy()\n",
    "```"
   ]
  }
 ],
 "metadata": {
  "kernelspec": {
   "display_name": "base",
   "language": "python",
   "name": "python3"
  },
  "language_info": {
   "codemirror_mode": {
    "name": "ipython",
    "version": 3
   },
   "file_extension": ".py",
   "mimetype": "text/x-python",
   "name": "python",
   "nbconvert_exporter": "python",
   "pygments_lexer": "ipython3",
   "version": "3.11.7"
  }
 },
 "nbformat": 4,
 "nbformat_minor": 2
}
