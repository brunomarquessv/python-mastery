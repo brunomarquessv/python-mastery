{
 "cells": [
  {
   "cell_type": "markdown",
   "metadata": {},
   "source": [
    "#### Listas e mutabilidade\n",
    "\n",
    "Como visto na lecture passada, porém não de forma aprofundada e diferente das tuplas, as listas são mutáveis, o que as permitem alterar seus valores e quaisquer valor por quaisquer tipo de dado: str, int, float, bool...\n",
    "<br>\n",
    "Podemos usar como exemplo simples:\n",
    "```python\n",
    "L = [2, 4, 3]\n",
    "L[1] = 5\n",
    "```\n",
    "\n",
    "O código acima cria uma lista chamada L que contém em seus elementos ``2, 4 e 3``. Alteramos logo na linha de baixo o valor do índice [1] que é o valor ``4`` para ``5``. Portanto, a lista agora contém os seguintes elementos: ``L = [2, 5, 3]``."
   ]
  },
  {
   "cell_type": "markdown",
   "metadata": {},
   "source": [
    "Lembre-se há uma diferença entre criar um novo objeto a mutar um elemento de um objeto do tipo lista, vejamos abaixo:<br>\n",
    "```python\n",
    "L = [2, 4, 3]\n",
    "L = 5\n",
    "```\n",
    "Acima, criamos uma lista que contém 3 elementos e alteramos o elemento índice [1] para 5 como mostrado anteriormente. \n",
    "```python\n",
    "L = [2, 4, 3]\n",
    "L = [1, 3, 5]\n",
    "```\n",
    "No exemplo, não há uma mutabilidade entre o objeto lista, há a criação de uma nova lista. Neste caso, os valores 2, 4 e 3 ficam salvos na memória do python e a variável nomeada ``L`` assume novos valores ``[1, 3 e 5]``.\n",
    "\n",
    "Podemos confirmar esta afirmação utilizando a função ``id`` que mostrará exatamente o id em que o objeto está alocado na memória."
   ]
  },
  {
   "cell_type": "code",
   "execution_count": 2,
   "metadata": {},
   "outputs": [
    {
     "name": "stdout",
     "output_type": "stream",
     "text": [
      "2760309243008\n",
      "2760309371968\n"
     ]
    }
   ],
   "source": [
    "L = [2, 3]\n",
    "print(id(L))\n",
    "L = [1, 4]\n",
    "print(id(L))"
   ]
  },
  {
   "cell_type": "markdown",
   "metadata": {},
   "source": [
    "##### 1. Operações com listas\n",
    "\n",
    "- Adicionar um elemento:\n",
    "Podemos utilizar a função ``.append`` para adicionar elementos ao final da lista."
   ]
  },
  {
   "cell_type": "code",
   "execution_count": 3,
   "metadata": {},
   "outputs": [
    {
     "name": "stdout",
     "output_type": "stream",
     "text": [
      "[1, 2, 3]\n",
      "[1, 2, 3, 5]\n"
     ]
    }
   ],
   "source": [
    "L = [1, 2, 3]\n",
    "print(L)\n",
    "L.append(5)\n",
    "print(L)"
   ]
  },
  {
   "cell_type": "markdown",
   "metadata": {},
   "source": [
    "Conferimos acima como uma lista sofre mutabilidade dos seus valores com o uso da função ``.append`` porém, tome cuidado para não utilizá-lo de forma incorreta, como por exemplo:\n",
    "```python\n",
    "L = [1, 2, 3]\n",
    "L = L.append(5)\n",
    "print(L)\n",
    "```\n",
    "Não crie um novo objeto que receberá a lista como valor e aplique a função ``append``, apesar da mesma ainda assim sofrer mutabilidade, o objeto criado irá retornar como valor ``None``, portanto, utilize a função .append diretamente no objeto sem a utilização de outra variável para isto."
   ]
  },
  {
   "cell_type": "code",
   "execution_count": 5,
   "metadata": {},
   "outputs": [
    {
     "name": "stdout",
     "output_type": "stream",
     "text": [
      "['do', ['re', 'mi']]\n"
     ]
    }
   ],
   "source": [
    "#### Outro exemplo da utilização do append\n",
    "\n",
    "L1 = ['re']\n",
    "L2 = ['mi']\n",
    "L3 = ['do']\n",
    "L4 = L1 + L2\n",
    "L3.append(L4)\n",
    "print(L3)"
   ]
  },
  {
   "cell_type": "markdown",
   "metadata": {},
   "source": [
    "O que é a notação ``.`` (ponto) que aparece antes do append?<br>\n",
    "- Listas no python são objetos, como qualquer outra coisa na linguagem\n",
    "- Objetos possuem dados\n",
    "- E cada tipo de objeto possuem operações associadas a eles mesmos\n",
    "- Para acessar essas informações (operações) utilizamos a notação e a operação\n",
    "- nome_do_objeto.faça_algo()\n",
    "<br>\n",
    "\n",
    "Entenderemos melhor mais a frente quando formos tratas de classes e objetos."
   ]
  },
  {
   "cell_type": "code",
   "execution_count": 10,
   "metadata": {},
   "outputs": [
    {
     "name": "stdout",
     "output_type": "stream",
     "text": [
      "[0, 1, 2, 3, 4, 5]\n"
     ]
    }
   ],
   "source": [
    "#### Funções com listas\n",
    "def make_ordered_list(n):\n",
    "    \"\"\"n é um inteiro positivo, que retorna uma lista_\n",
    "    contendo todos os inteiros em ordem de 0 até n (incluindo o próprio n)\n",
    "    \"\"\"\n",
    "    L = []\n",
    "    for i in range(n+1):\n",
    "        L.append(i)\n",
    "    \n",
    "    return L\n",
    "    \n",
    "print(make_ordered_list(5))"
   ]
  },
  {
   "cell_type": "code",
   "execution_count": 11,
   "metadata": {},
   "outputs": [
    {
     "name": "stdout",
     "output_type": "stream",
     "text": [
      "[1]\n"
     ]
    }
   ],
   "source": [
    "### Outra função com lista\n",
    "def remove_elem(L, e):\n",
    "    \"\"\"L é uma lista\n",
    "    a função retorna uma nova lista com os elementos na mesma ordem de L, porém\n",
    "    sem nenhum elemento igual a e\n",
    "    \"\"\"\n",
    "    newlist = []\n",
    "    for i in L:\n",
    "        if i != e:\n",
    "            newlist.append(i)\n",
    "    \n",
    "    return newlist\n",
    "\n",
    "\n",
    "L = [1, 2, 2, 2]\n",
    "print(remove_elem(L, 2))"
   ]
  },
  {
   "cell_type": "markdown",
   "metadata": {},
   "source": [
    "**1.1 Outras operações...**`<br>\n",
    "\n",
    "``.sort`` -> põe os elementos em ordem crescente ou ordem alfabética.<br>\n",
    "obs: funciona apenas quando a lista contém apenas (1) tipo de dado."
   ]
  },
  {
   "cell_type": "code",
   "execution_count": 17,
   "metadata": {},
   "outputs": [
    {
     "name": "stdout",
     "output_type": "stream",
     "text": [
      "[1, 2, 3, 4]\n",
      "['a', 'b', 'c', 'd']\n"
     ]
    }
   ],
   "source": [
    "L = [4, 2, 3, 1]\n",
    "L.sort()\n",
    "print(L)\n",
    "\n",
    "L = ['d', 'c', 'a', 'b']\n",
    "L.sort()\n",
    "print(L)"
   ]
  },
  {
   "cell_type": "markdown",
   "metadata": {},
   "source": [
    "``.reverse()`` -> põe os elementos na ordem inversa.<br>\n",
    "obs: este, podemos utilizar quaisquer tipo de dado na lista, pois, apenas altera a ordem dos indices e valores."
   ]
  },
  {
   "cell_type": "code",
   "execution_count": 19,
   "metadata": {},
   "outputs": [
    {
     "name": "stdout",
     "output_type": "stream",
     "text": [
      "[3, 2, 1]\n",
      "[True, 'a', 1]\n"
     ]
    }
   ],
   "source": [
    "L = [1, 2, 3]\n",
    "L.reverse()\n",
    "print(L)\n",
    "\n",
    "L = [1, 'a', True]\n",
    "L.reverse()\n",
    "print(L)"
   ]
  },
  {
   "cell_type": "markdown",
   "metadata": {},
   "source": [
    "``sorted()`` - este, possui o mesmo efeito do ``.sort()`` porém, é utilizado de forma diferente, podemos utiliza-lo para criar um novo objeto que recebe como valor, a função com os valores em ordem crescente. <br>\n",
    "obs:não é utilizado a notação (.) antes da função."
   ]
  },
  {
   "cell_type": "code",
   "execution_count": 23,
   "metadata": {},
   "outputs": [
    {
     "name": "stdout",
     "output_type": "stream",
     "text": [
      "[1, 2, 3]\n",
      "[3, 2, 1]\n"
     ]
    }
   ],
   "source": [
    "L = [3, 2, 1]\n",
    "L1 = sorted(L)\n",
    "print(L1)\n",
    "\n",
    "###OBS###\n",
    "# A lista L não sofre mutabilidade neste caso, pois, a lista L com seus valores em ordem foi recebido pela variável L1.\n",
    "print(L)"
   ]
  },
  {
   "cell_type": "markdown",
   "metadata": {},
   "source": [
    "**1.2 Strings para listas**<br>\n",
    "Podemos converter strings em listas e podemos separar as strings dentro das listas, vejamos:<br>\n",
    "\n",
    "- 1. Podemos fazer como se estivéssemos convertendo um tipo de dado, porém não é tão eficaz;"
   ]
  },
  {
   "cell_type": "code",
   "execution_count": 29,
   "metadata": {},
   "outputs": [
    {
     "name": "stdout",
     "output_type": "stream",
     "text": [
      "['b', 'r', 'u', 'n', 'o']\n"
     ]
    }
   ],
   "source": [
    "string = 'bruno'\n",
    "L = list(string)\n",
    "print(L)\n",
    "\n",
    "###Pode até ser útil para pequenas strings, mas strings de grande porte acaba não sendo eficiente e não tendo muitas utilidades."
   ]
  },
  {
   "cell_type": "markdown",
   "metadata": {},
   "source": [
    "- 2. Podemos usar a notação .split() para ter um parâmetro de caractere, por exemplo:"
   ]
  },
  {
   "cell_type": "code",
   "execution_count": 34,
   "metadata": {},
   "outputs": [
    {
     "name": "stdout",
     "output_type": "stream",
     "text": [
      "['data', 'science', 'is', 'the', 'best', 'area', 'of', 'the', 'world']\n",
      "['I ', '3 Data Science']\n"
     ]
    }
   ],
   "source": [
    "string = 'data science is the best area of the world'\n",
    "L = string.split(' ')\n",
    "print(L)\n",
    "\n",
    "second_string = 'I <3 Data Science'\n",
    "L2 = second_string.split('<')\n",
    "print(L2)"
   ]
  },
  {
   "cell_type": "markdown",
   "metadata": {},
   "source": [
    "3. Podemos também atribuir uma lista a uma variável como string:"
   ]
  },
  {
   "cell_type": "code",
   "execution_count": 37,
   "metadata": {},
   "outputs": [
    {
     "name": "stdout",
     "output_type": "stream",
     "text": [
      "data\n",
      "d**a**t**a\n"
     ]
    }
   ],
   "source": [
    "list_like_string = ['d', 'a', 't', 'a']\n",
    "new_string = ''.join(list_like_string)\n",
    "print(new_string)\n",
    "\n",
    "# entre as aspas, podemos adicionar o que quisermos para separar os caracteres\n",
    "new_string = '**'.join(list_like_string)\n",
    "print(new_string)"
   ]
  },
  {
   "cell_type": "code",
   "execution_count": 42,
   "metadata": {},
   "outputs": [
    {
     "name": "stdout",
     "output_type": "stream",
     "text": [
      "a quantidade de palavras é de 6\n"
     ]
    }
   ],
   "source": [
    "#####TESTANDO EM FUNÇÔES######\n",
    "def count_words(sen):\n",
    "    \"\"\" sen é uma string que representa uma sentença\n",
    "    A função retorna quantas palavras está em \"s\" que é um objeto (uma palavra\n",
    "    é uma sequencia de caracteres entre espaços)\n",
    "    \"\"\"\n",
    "    s = sen.split(' ')\n",
    "    return f\"a quantidade de palavras é de {len(s)}\"\n",
    "    \n",
    "\n",
    "print(count_words(\"I have to be data scientist\"))"
   ]
  },
  {
   "cell_type": "markdown",
   "metadata": {},
   "source": [
    "#### 2. Iterando sobre as listas e acessando seus índices\n",
    "Como nas tuplas, também podemos iterar sobre os elementos da lista e temos maneiras diferentes de fazer isto, vejamos abaixo:<br>"
   ]
  },
  {
   "cell_type": "code",
   "execution_count": 24,
   "metadata": {},
   "outputs": [
    {
     "name": "stdout",
     "output_type": "stream",
     "text": [
      "1\n",
      "2\n",
      "3\n"
     ]
    }
   ],
   "source": [
    "#1. Iterando sobre os elementos da lista\n",
    "\n",
    "L = [1, 2, 3]\n",
    "\n",
    "for i in L:\n",
    "    print(i)"
   ]
  },
  {
   "cell_type": "code",
   "execution_count": 26,
   "metadata": {},
   "outputs": [
    {
     "name": "stdout",
     "output_type": "stream",
     "text": [
      "0\n",
      "1\n",
      "2\n"
     ]
    }
   ],
   "source": [
    "#2. Iterando sobre o índice dos elementos\n",
    "L = [4, 5, 7]\n",
    "\n",
    "for i in range(len(L)):\n",
    "    print(i)"
   ]
  },
  {
   "cell_type": "markdown",
   "metadata": {},
   "source": [
    "Utilizando a segunda forma, ainda assim podemos acessar os elementos como na 1ª opção, da seguinte maneira:"
   ]
  },
  {
   "cell_type": "code",
   "execution_count": 44,
   "metadata": {},
   "outputs": [
    {
     "name": "stdout",
     "output_type": "stream",
     "text": [
      "5\n",
      "12\n",
      "9\n",
      "[25, 144, 81]\n"
     ]
    }
   ],
   "source": [
    "L = [5, 12, 9]\n",
    "for i in range(len(L)):\n",
    "    print(L[i])\n",
    "\n",
    "# Acessado o elemento L que está contido no índice i\n",
    "# a partir disso, também podemos alterar seus valores, afinal, uma lista é mutável\n",
    "\n",
    "for i in range(len(L)):\n",
    "    L[i] = L[i] ** 2\n",
    "    \n",
    "print(L)"
   ]
  },
  {
   "cell_type": "code",
   "execution_count": 51,
   "metadata": {},
   "outputs": [
    {
     "name": "stdout",
     "output_type": "stream",
     "text": [
      "[]\n"
     ]
    }
   ],
   "source": [
    "####BÔNUS#### \n",
    "# excluindo elementos da lista\n",
    "B = [1, 2, 3]\n",
    "B.clear()\n",
    "\n",
    "print(B)"
   ]
  }
 ],
 "metadata": {
  "kernelspec": {
   "display_name": "base",
   "language": "python",
   "name": "python3"
  },
  "language_info": {
   "codemirror_mode": {
    "name": "ipython",
    "version": 3
   },
   "file_extension": ".py",
   "mimetype": "text/x-python",
   "name": "python",
   "nbconvert_exporter": "python",
   "pygments_lexer": "ipython3",
   "version": "3.11.7"
  }
 },
 "nbformat": 4,
 "nbformat_minor": 2
}
