{
 "cells": [
  {
   "cell_type": "markdown",
   "metadata": {},
   "source": [
    "## Operators"
   ]
  },
  {
   "cell_type": "markdown",
   "metadata": {},
   "source": [
    "Python divides operators in the following groups\n",
    "\n",
    "* Arithmetic operators\n",
    "* Assignment operators\n",
    "* Comparison operators\n",
    "* Logical operators\n",
    "* Identity operators\n",
    "* Memberships operators\n",
    "* Bitwise operators"
   ]
  },
  {
   "cell_type": "markdown",
   "metadata": {},
   "source": [
    "**Arithmetic Operators**\n",
    "\n",
    "| Operator | Name | Example |\n",
    "| -------- | ---- | ------- |\n",
    "| + | Addition | x + y |\n",
    "| - | Subtraction | x - y |\n",
    "| * | Multiplication | x * y |\n",
    "| / | Division | x / y |\n",
    "| % | Modulus or rest of division | x % y |\n",
    "| ** | Exponentiation | x ** y |\n",
    "| // | Floor division | x // y  "
   ]
  },
  {
   "cell_type": "markdown",
   "metadata": {},
   "source": [
    "**Assignment Operators**\n",
    "\n",
    "| Operator | Example | Same as | \n",
    "| ------- | ------- | -------- |\n",
    "| = | x = 5 | x = 5 | \n",
    "| += | x += 3 | x = x + 3 | \n",
    "| -= | x -= 5 | x = x - 5 | \n",
    "| *= | x *= 2 | x = x * 2 |\n",
    "| /= | x /= 3 | x = x / 3 |\n",
    "| %= | x %= 2 | x = x % 2 | \n",
    "|//= | x //= 3| x = x // 3|\n",
    "|**=|x **= 3|\tx = x ** 3|\t\n",
    "|&=\t|x &= 3\t|x = x & 3|\t\n",
    "\n",
    "```python\n",
    "# consider x = 5 \n",
    "x += 3 # is the same of (x = 5 + 3) 8 \n",
    "x -= 3 # is the same of (x = 5 - 3) 2\n",
    "x *= 3 # is the same of (x = 5 * 3) 15\n",
    "x **= 2 # is the same of (x = 5 ** 2) 25\n",
    "```"
   ]
  },
  {
   "cell_type": "markdown",
   "metadata": {},
   "source": [
    "**Comparison Operators**\n",
    "\n",
    "| Operator | Name | Example | \n",
    "| ------- | ------ | -------- |\n",
    "| == | Equal | 3 == 3 |\n",
    "| != | Not equal | 2 != 3 | \n",
    "| > | greater than | 3 > 1 | \n",
    "| < | less than | 1 < 2 | \n",
    "| >= | greater than or equal to | x >= 3 |\n",
    "| < | less than or equal to | x <= 3 | \n",
    "\n",
    "```python\n",
    "3 == 3 # True \n",
    "2 != 3 # True \n",
    "2 > 3 # False\n",
    "3 < 1 # False\n",
    "4 >= 2 # True\n",
    "5 <= 8 # True\n",
    "```"
   ]
  },
  {
   "cell_type": "markdown",
   "metadata": {},
   "source": [
    "**Logical operators**\n",
    "\n",
    "| Operator | Description | Example | \n",
    "| ----- | -------- | -------- |\n",
    "| and | Returns True if both statements are true | x < 5 and x > 10 | \n",
    "| or | Return True if one of the statements is true | x == 5 or x < 10 | \n",
    "| not | Return the result, returns False if the result is true | not(x< 5 and x > 10)\n",
    "\n",
    "```python\n",
    "5 > 1 and 5 < 10 # True; because the both statements are true\n",
    "4 > 2 or 1 > 10 # True; because one of the statements are true, but the second statements are false \n",
    "not(5 > 1) # False; because this statements return opposite value\n",
    "```"
   ]
  },
  {
   "cell_type": "markdown",
   "metadata": {},
   "source": [
    "**Identity Operators**\n",
    "\n",
    "| Operator | Description | Example | \n",
    "| ----- | ----------- | ---------- | \n",
    "| is | Return a true if both variables are the same object | x is y | \n",
    "| is not | Return a true if both variables are not the same object | x is not y |  \n",
    "\n",
    "```python\n",
    "# consider x = 5 and y = 5\n",
    "x is y # True; because the both variables has the same value \n",
    "\n",
    "# consider x = 3 and y = 5 \n",
    "x is not y # True; because the both varibles has not the same value\n",
    "```"
   ]
  },
  {
   "cell_type": "markdown",
   "metadata": {},
   "source": [
    "**Membership Operators**\n",
    "\n",
    "| Operator | Description | Example | \n",
    "| ------- | ---------- | ---------- |\n",
    "| in | Return True if a sequence with the specified value is present (contained) in the object | x in y |\n",
    "| not in | Return True if a sequence with the specified value is not present (are not contained) in the object | x in not y |  \n",
    "\n",
    "```python\n",
    "# consider x = 5 and y = 3\n",
    "x in y # False; because the value 5 are not in y (not contained)\n",
    "x not in y # True; because the value 5 are not in y \n",
    "\n",
    "# consider fruits = ['apple', 'banana', 'strawberry']\n",
    "apple in fruits # True\n",
    "banana in fruits # True\n",
    "orange in fruits # False\n",
    "lemon not in fruits # True\n",
    "```\n"
   ]
  }
 ],
 "metadata": {
  "language_info": {
   "name": "python"
  }
 },
 "nbformat": 4,
 "nbformat_minor": 2
}
