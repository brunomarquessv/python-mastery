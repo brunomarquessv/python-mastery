{
 "cells": [
  {
   "cell_type": "markdown",
   "metadata": {},
   "source": [
    "##### Funções como objeto\n",
    "\n",
    "Sim, por mais que possa soar estranho, mas as funções também são objetos e possuem um tipo ``function``. Vamos entender!"
   ]
  },
  {
   "cell_type": "markdown",
   "metadata": {},
   "source": [
    "O que aconteceria com a função, caso ela não possua um return?<br>\n",
    "\n",
    "```python\n",
    "def is_even(i):\n",
    "    i%2 == 0\n",
    "```\n",
    "\n",
    "- No python, caso não haja um ``return`` no fim de sua função, irá retornar ``None`` que é um objeto do tipo ``NoneType``."
   ]
  },
  {
   "cell_type": "markdown",
   "metadata": {},
   "source": [
    "Qual a diferença do ``return`` para o ``print`` em uma função?\n",
    "\n",
    "Toda função precisa retornar algo e caso você coloque um print ao invés do ``return`` ela ainda assim nao irá retornar nada, ou seja: ``None``. Mesmo indicando um print, ele não irá funcionar como um retorno, mas funcionará como uma \"ação\" da função.\n",
    "\n",
    "``return``:\n",
    "- o return só pode ser utilizado dentro de uma função\n",
    "- apenas 1 return pode ser executado dentro de uma função\n",
    "- a função ou código, só iria executar o que foi instruído antes do return, após o return não será executado\n",
    "- possui um valor associado a ele, dado a função que o chama\n",
    "\n",
    "``print``: \n",
    "- pode ser utilizado dentro e fora das funções\n",
    "- pode executar inumeros ``prints`` dentro da declaração da função\n",
    "- qualquer código que for instruído após o print dentro da função, será executado\n",
    "- possui um valor associado a ele que é enviado para o console\n",
    "- a própria expressão ``print`` retorna None como seu valor"
   ]
  },
  {
   "cell_type": "markdown",
   "metadata": {},
   "source": [
    "**As funções suportam modularidade**\n",
    "\n",
    "Podemos chamar as funções com diferentes valores, por exemplo:\n",
    "```python\n",
    "def num(x):\n",
    "    return x\n",
    "\n",
    "print(num(5))\n",
    "print(num(10))\n",
    "```\n",
    "\n",
    "Porém, também podemos utilizar valores de variáveis como valores de funções, por exemplo:\n",
    "```python\n",
    "y = 10\n",
    "print(num(y))\n",
    "```\n",
    "Isso irá retornar 10 como valor de num, valor da função.\n",
    "\n",
    "Outro exemplo\n",
    "```python\n",
    "def sum_odd(a, b):\n",
    "    sum_of_odds = 0 \n",
    "    for i in range(a, b+1):\n",
    "        if i%2==1:\n",
    "            sum_of_odds += 1\n",
    "    return sum_of_odds\n",
    "\n",
    "low = 2\n",
    "high = 7\n",
    "my_sum = sum_odd(low, high)\n",
    "```\n",
    "Neste caso, a e b receberão os valores de low e high respectivamente."
   ]
  },
  {
   "cell_type": "markdown",
   "metadata": {},
   "source": [
    "**Escopo da função**\n",
    "- Como o python executa uma função? Como o python sabe qual valor está associado com o nome da variável? Pode até soar difícil de se entender, mas não é! \n",
    "\n",
    "Quando estamos executando um código python, ele possui seu ambiente de produção, quando invocamos uma função, o python cria um novo ambiente. É como se fosse um miniprograma rodando dentro do programa principal, entendeu?\n",
    "\n",
    "- O miniprograma é executado atribuindo seus parâmetros a algumas entradas\n",
    "- Realiza o trabalho do corpo da função\n",
    "- Retorna um valor \n",
    "- O ambiente some depois de retornar o valor\n",
    "\n",
    "**Tipos de escopo**<br>\n",
    "**Escopo local**:\n",
    "- Uma variável que é declarada dentro da função, é chamada de variável local, portanto, só poderá ser acessada dentro desta função.\n",
    "\n",
    "**Escopo Enclosing**:\n",
    "- Se uma função estiver aninhada com outra função, a função interna possui acesso às variáveis da função externa (pai) e vice-versa.\n",
    "\n",
    "**Escopo global**:\n",
    "- Uma variável que é declara fora do corpo da função e pode ser acessada em qualquer parte do código.\n",
    "\n",
    "**Escopo built-in**:\n",
    "- Este é o escopo de nomes pré-definidos(built-in) como por exemplo: a função abs() - isso significa que um nome global, ou pré-definido na linguagem, pode ser substituído por um nome local."
   ]
  },
  {
   "cell_type": "markdown",
   "metadata": {},
   "source": [
    "**Funções como argumentos**\n",
    "- Objetos no python possuem um tipo, correto?\n",
    "    - int, float, str, bool, NoneType, function...\n",
    "- Objetos também são utilizados como argumentos em um procedimento, correto?\n",
    "- Objetos também retornam valores de um procedimento\n",
    "<br>\n",
    "- Funções, então, são também a primeira classe de objetos!\n",
    "- Trate as funções, como os outros tipos de objetos:\n",
    "    - Funções podem ser argumentos de outras funções (procedimentos)\n",
    "    - Funções podem ser retornadas por outras funções (procedimentos)\n",
    "\n",
    "**Exemplo prático:**\n",
    "```python\n",
    "def calc(op, x, y):\n",
    "    return op(x, y)\n",
    "\n",
    "def add(a, b):\n",
    "    return a+b\n",
    "\n",
    "def div(a, b):\n",
    "    if b != 0:\n",
    "        return a/b\n",
    "    print(\"denominator was 0\")\n",
    "\n",
    "print(calc(add, 2, 3))\n",
    "```\n",
    "\n",
    "Entendimento do código:\n",
    "1. Cria-se a função ``calc`` que terá como parâmetros op (operação), x (valor 1), y (valor 2)\n",
    "2. Cria-se a função ``add`` (soma) que terá como parâmetro também, dois valores ``a`` e ``b`` que retornará a soma de ambos\n",
    "3. Cria-se a função ``div`` (divisão) que terá como parâmetros os parâmetros da função ``add`` e possui em suas instruções uma estrutura de decisão ``if`` que determina se o valor de b (divisor) é diferente de 0 e retorna a divisão de ``a`` e ``b``.\n",
    "4. Ao final, na função ``print`` determinamos os valores de ``calc`` que será a operação ``add`` e os valores ``x`` e ``y`` (2 e 3) respectivamente.\n",
    "5. No final, a função irá retornar a soma de 2 e 3 = 5"
   ]
  },
  {
   "cell_type": "markdown",
   "metadata": {},
   "source": [
    "Conclusão:\n",
    "- Funções são a primeira classe de objetos\n",
    "    - Possuem tipo\n",
    "    - Podem ser atribuídos como um valor vinculado a um nome\n",
    "    - Podem ser utilizados como argumentos de outras funções ou procedimentos\n",
    "    - Podem também retornar valores de outras funções ou procedimentos\n",
    "    "
   ]
  }
 ],
 "metadata": {
  "kernelspec": {
   "display_name": "Python 3",
   "language": "python",
   "name": "python3"
  },
  "language_info": {
   "codemirror_mode": {
    "name": "ipython",
    "version": 3
   },
   "file_extension": ".py",
   "mimetype": "text/x-python",
   "name": "python",
   "nbconvert_exporter": "python",
   "pygments_lexer": "ipython3",
   "version": "3.12.2"
  }
 },
 "nbformat": 4,
 "nbformat_minor": 2
}
